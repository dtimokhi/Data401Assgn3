{
 "cells": [
  {
   "cell_type": "markdown",
   "metadata": {},
   "source": [
    "# Assignment 3\n",
    "\n",
    "## Printed copy due in class on November 14, 2018\n",
    "\n",
    "You may work in pairs on this assignment. You are not permitted to discuss this assignment with anyone other than your partner or the instructors.\n",
    "\n",
    "### Student 1: Dmitriy Timokhin\n",
    "### Student 2: Hanson Egbert"
   ]
  },
  {
   "cell_type": "markdown",
   "metadata": {},
   "source": [
    "# Question 1: Neural Networks by Hand\n",
    "\n",
    "## Part A\n",
    "\n",
    "Suppose we train a neural network using the ReLU activation function: \n",
    "\n",
    "$$ g(a) = \\max(a, 0). $$\n",
    "\n",
    "1. Draw the graph of $g(a)$. (Matplotlib plots are acceptable.)\n",
    "2. What is the derivative $h = g'(a)$ in terms of the input $a$?\n",
    "3. What is the derivative $h = g'(a)$ in terms of the input $h$?"
   ]
  },
  {
   "cell_type": "code",
   "execution_count": 3,
   "metadata": {},
   "outputs": [],
   "source": [
    "import numpy as np\n",
    "import pandas as pd\n",
    "import matplotlib.pyplot as plt\n",
    "\n",
    "%matplotlib inline"
   ]
  },
  {
   "cell_type": "markdown",
   "metadata": {},
   "source": [
    "## 1)"
   ]
  },
  {
   "cell_type": "code",
   "execution_count": 4,
   "metadata": {},
   "outputs": [
    {
     "data": {
      "image/png": "[encoded data removed]",
      "text/plain": [
       "<Figure size 432x288 with 1 Axes>"
      ]
     },
     "metadata": {},
     "output_type": "display_data"
    }
   ],
   "source": [
    "def ReLU(a): \n",
    "    return np.max([a, 0])\n",
    "\n",
    "def ReLUderiv(a):\n",
    "    if a <= 0:\n",
    "        return 0\n",
    "    else:\n",
    "        return 1\n",
    "ReLUderivVect = np.vectorize(ReLUderiv)\n",
    "\n",
    "reluVect = np.vectorize(ReLU)\n",
    "vals = np.arange(-20, 20)\n",
    "plt.plot(vals, reluVect(vals));"
   ]
  },
  {
   "cell_type": "markdown",
   "metadata": {},
   "source": [
    "## 2)\n",
    "\n",
    "Derivative when a < 0: 0 <br>\n",
    "Derivative when a  = 0: Undefined <br>\n",
    "Derivative when a > 0: 1 <br>"
   ]
  },
  {
   "cell_type": "markdown",
   "metadata": {},
   "source": [
    "## 3)\n",
    "If h is 0: Then a must be < 0 <br>\n",
    "If h is 1: Then a must be > 0 <br>"
   ]
  },
  {
   "cell_type": "markdown",
   "metadata": {},
   "source": [
    "## Part B\n",
    "\n",
    "Consider a neural network, where the current weights and biases are as follows. (Since this network is so simple, we omit the superscripts $w^{(m)}$ and $b^{(m)}$ that indicates which layer each weight/bias is in.)\n",
    "\n",
    "![](../Data401Fall2018/neural_network.png)\n",
    "\n",
    "The activation function used in the hidden layer is the ReLU activation function. \n",
    "**No activation function is used in the output layer.**\n",
    "\n",
    "Predict the output for the input ${\\bf x} = (-1, 1)$. "
   ]
  },
  {
   "cell_type": "code",
   "execution_count": 5,
   "metadata": {},
   "outputs": [
    {
     "data": {
      "text/plain": [
       "matrix([[3]])"
      ]
     },
     "execution_count": 5,
     "metadata": {},
     "output_type": "execute_result"
    }
   ],
   "source": [
    "## Since we are including Bias in our network the values of each layer will follow\n",
    "## a format similar to g(wx + b) where g is the ReLU function as specified.\n",
    "\n",
    "## We can create a vector for our first layer\n",
    "x = np.matrix([-1 ,1]).T  # shape is 2, 1\n",
    "\n",
    "## Weight matrix for layer 1\n",
    "w1 = np.matrix([[-1,2], [1,0]])\n",
    "\n",
    "## First layer (using ReLU function from previous problem)\n",
    "a1 = np.matmul(w1, x)\n",
    "h = reluVect(a1)\n",
    "\n",
    "## Final Layer\n",
    "w2 = np.matrix([1,-1])\n",
    "out = np.matmul(w2, h)\n",
    "out"
   ]
  },
  {
   "cell_type": "markdown",
   "metadata": {},
   "source": [
    "The predicted output for the input x = (-1, 1) will be 3."
   ]
  },
  {
   "cell_type": "markdown",
   "metadata": {},
   "source": [
    "## Part C\n",
    "\n",
    "We are training the neural network from the previous part to minimize the loss function \n",
    "\n",
    "$$ L_i({\\bf w}, {\\bf b}) = (\\hat y_i - y_i)^2. $$\n",
    "\n",
    "You have a new training observation ${\\bf x_i} = (-1, 1)$ and $y_i = 1$. \n",
    "Use one step of (stochastic) gradient descent to update the 6 weights (from the previous part) ${\\bf w} = (w_{11}, w_{12}, w_{21}, w_{22}, w_1, w_2)$ and the 3 biases (from the previous part) ${\\bf b} = (b_1, b_2, b)$, based on this single observation. Use a learning rate of $\\eta = 0.25$."
   ]
  },
  {
   "cell_type": "code",
   "execution_count": 6,
   "metadata": {},
   "outputs": [],
   "source": [
    "## Since we are performing stochastic gradient descent on the neural network,\n",
    "## we are in essense performing backpropogation.\n",
    "## We can do this at each layer and reuse our stored values for future use.\n",
    "\n",
    "lrate = 0.25\n",
    "## Firstly we have our predicted yhat from our previous, part b, which we decided is 3\n",
    "y = 1\n",
    "yhat = 3\n",
    "## This is our dl/dy value which will be useful later\n",
    "dldy = 2 * (3 - 1)\n",
    "## This is just the derivative of wh + b with respect to w which is h\n",
    "dydw = h\n",
    "\n",
    "#### Updating w1, and w2 (stored in w2 for my code)\n",
    "w2_n = w2.T - lrate * dldy * dydw\n",
    "\n",
    "## Updating the Bias term b\n",
    "b_n = np.matrix([0]) - lrate * dldy * 1\n",
    "\n",
    "### Updating w11, w12, w21, w22. We need dldy, dydh, and dhdw\n",
    "## We can reuse dldy from the previous weight updates\n",
    "\n",
    "## This is just the derivative of wh + b with respect to h so its just w\n",
    "dydh = w2.T\n",
    "## We know h is just h=g(wx + b) so dhdw\n",
    "## is just g'(wx + b) * x\n",
    "# dhdw - dhda dadw\n",
    "dhda = ReLUderivVect(a1)\n",
    "dadw = x.T\n",
    "dhdw = dhda * dadw\n",
    "w1_n = w1 - lrate * dldy * np.matrix(np.array(dydh) * np.array(dhda)) * dadw\n",
    "\n",
    "#### Updating b1, b2\n",
    "b_1_n = np.matrix([0,0]).T - lrate * dldy * dydh * 1"
   ]
  },
  {
   "cell_type": "code",
   "execution_count": 7,
   "metadata": {},
   "outputs": [
    {
     "data": {
      "text/plain": [
       "matrix([[-1.]])"
      ]
     },
     "execution_count": 7,
     "metadata": {},
     "output_type": "execute_result"
    }
   ],
   "source": [
    "## Testing new Neural Network\n",
    "h_n = reluVect(np.matmul(w1_n, x) + b_1_n)\n",
    "out_n = np.matmul(w2_n.T, h_n) + b_n\n",
    "out_n"
   ]
  },
  {
   "cell_type": "markdown",
   "metadata": {},
   "source": [
    "# Question 2: Implementing Neural Networks\n",
    "\n",
    "This question will guide you through the implementation of a fully-connected neural network. Although the question is divided into parts, you need not do the parts in order. In fact, you may want to start with Part C (implementing the neural network itself) so that you see how the pieces fit together."
   ]
  },
  {
   "cell_type": "markdown",
   "metadata": {},
   "source": [
    "## Part A: Loss Functions\n",
    "\n",
    "By subclassing the `Loss` class below, implement the squared-error loss function \n",
    "\n",
    "$$L({\\bf \\hat y}, {\\bf y}) = \\sum_i (\\hat y_i - y_i)^2.$$"
   ]
  },
  {
   "cell_type": "code",
   "execution_count": 10,
   "metadata": {},
   "outputs": [],
   "source": [
    "class Loss(object):\n",
    "    \n",
    "    def __call__(self, predicted, actual):\n",
    "        \"\"\"Calculates the loss as a function of the prediction and the actual.\n",
    "        \n",
    "        Args:\n",
    "          predicted (np.ndarray, float): the predicted output labels\n",
    "          actual (np.ndarray, float): the actual output labels\n",
    "          \n",
    "        Returns: (float) \n",
    "          The value of the loss for this batch of observations.\n",
    "        \"\"\"\n",
    "        raise NotImplementedError\n",
    "        \n",
    "    def derivative(self, predicted, actual):\n",
    "        \"\"\"The derivative of the loss with respect to the prediction.\n",
    "        \n",
    "        Args:\n",
    "          predicted (np.ndarray, float): the predicted output labels\n",
    "          actual (np.ndarray, float): the actual output labels\n",
    "          \n",
    "        Returns: (np.ndarray, float) \n",
    "          The derivatives of the loss.\n",
    "        \"\"\"\n",
    "        raise NotImplementedError\n",
    "        \n",
    "        \n",
    "class SquaredErrorLoss(Loss):\n",
    "    \n",
    "    def __call__(self, predicted, actual):\n",
    "        return np.sum(\n",
    "            (predicted - actual) ** 2\n",
    "        )\n",
    "    \n",
    "    def derivative(self, predicted, actual):\n",
    "        return (\n",
    "            2 * (predicted - actual)\n",
    "        )"
   ]
  },
  {
   "cell_type": "markdown",
   "metadata": {},
   "source": [
    "## Part B: Activation Functions\n",
    "\n",
    "By subclassing the `ActivationFunction` class below, implement the ReLU and Sigmoid activation functions."
   ]
  },
  {
   "cell_type": "code",
   "execution_count": 77,
   "metadata": {},
   "outputs": [],
   "source": [
    "class ActivationFunction(object):\n",
    "        \n",
    "    def __call__(self, a):\n",
    "        \"\"\"Applies activation function to the values in a layer.\n",
    "        \n",
    "        Args:\n",
    "          a (np.ndarray, float): the values from the previous layer (after \n",
    "            multiplying by the weights.\n",
    "          \n",
    "        Returns: (np.ndarray, float) \n",
    "          The values h = g(a).\n",
    "        \"\"\"\n",
    "        return a\n",
    "    \n",
    "    def derivative(self, h):\n",
    "        \"\"\"The derivatives as a function of the outputs at the nodes.\n",
    "        \n",
    "        Args:\n",
    "          h (np.ndarray, float): the outputs h = g(a) at the nodes.\n",
    "          \n",
    "        Returns: (np.ndarray, float) \n",
    "          The derivatives dh/da.\n",
    "        \"\"\"\n",
    "        return np.ones(h.shape)\n",
    "    \n",
    "class ReLU(ActivationFunction):\n",
    "    \n",
    "    def __call__(self, a):\n",
    "        return np.where(a > 0, a, 0)\n",
    "    \n",
    "    def derivative(self, a):\n",
    "        return np.where(a > 0, 1, 0)\n",
    "\n",
    "class Sigmoid(ActivationFunction):\n",
    "    \n",
    "    def __call__(self, a):\n",
    "        return 1/(1 + np.exp(-a))\n",
    "    \n",
    "    def derivative(self, a):\n",
    "        return  self.__call__(a) * (1 - self.__call__(a))"
   ]
  },
  {
   "cell_type": "code",
   "execution_count": 78,
   "metadata": {},
   "outputs": [
    {
     "data": {
      "text/plain": [
       "array([ 1.,  1.])"
      ]
     },
     "execution_count": 78,
     "metadata": {},
     "output_type": "execute_result"
    }
   ],
   "source": [
    "x = ActivationFunction()\n",
    "x.derivative(np.array([1,2]))"
   ]
  },
  {
   "cell_type": "markdown",
   "metadata": {},
   "source": [
    "## Part C: Putting It All Together\n",
    "\n",
    "A `Layer` class has been completely implemented for you. This class applies the activation function to the incoming values and stores the current values at the layer. (We need to store the values because they come in handy when we are doing backpropagation.)\n",
    "\n",
    "The `FullyConnectedNeuralNetwork` class is only partially implemented. You have to implement the `feedforward` and `backprop` methods."
   ]
  },
  {
   "cell_type": "code",
   "execution_count": 199,
   "metadata": {},
   "outputs": [],
   "source": [
    "class Layer(object):\n",
    "    \"\"\"A data structure for a layer in a neural network.\n",
    "    \n",
    "    Attributes:\n",
    "      num_nodes (int): number of nodes in the layer\n",
    "      activation_function (ActivationFunction)\n",
    "      values_pre_activation (np.ndarray, float): most recent values\n",
    "        in layer, before applying activation function\n",
    "      values_post_activation (np.ndarray, float): most recent values\n",
    "        in layer, after applying activation function\n",
    "    \"\"\"\n",
    "    \n",
    "    def __init__(self, num_nodes, activation_function=ActivationFunction()):\n",
    "        self.num_nodes = num_nodes\n",
    "        self.activation_function = activation_function\n",
    "        \n",
    "    def get_layer_values(self, values_pre_activation):\n",
    "        \"\"\"Applies activation function to values from previous layer.\n",
    "        \n",
    "        Stores the values (both before and after applying activation \n",
    "        function)\n",
    "        \n",
    "        Args:\n",
    "          values_pre_activation (np.ndarray, float): \n",
    "            A (batch size) x self.num_nodes array of the values\n",
    "            in layer before applying the activation function\n",
    "        \n",
    "        Returns: (np.ndarray, float)\n",
    "            A (batch size) x self.num_nodes array of the values\n",
    "            in layer after applying the activation function\n",
    "        \"\"\"\n",
    "        self.values_pre_activation = values_pre_activation\n",
    "        self.values_post_activation = self.activation_function(\n",
    "            values_pre_activation\n",
    "        )\n",
    "        return self.values_post_activation\n",
    "\n",
    "        \n",
    "class FullyConnectedNeuralNetwork(object):\n",
    "    \"\"\"A data structure for a fully-connected neural network.\n",
    "    \n",
    "    Attributes:\n",
    "      layers (Layer): A list of Layer objects.\n",
    "      loss (Loss): The loss function to use in training.\n",
    "      learning_rate (float): The learning rate to use in backpropagation.\n",
    "      weights (list, np.ndarray): A list of weight matrices,\n",
    "        length should be len(self.layers) - 1\n",
    "      biases (list, float): A list of bias terms,\n",
    "        length should be equal to len(self.layers)\n",
    "    \"\"\"\n",
    "    \n",
    "    def __init__(self, layers, loss, learning_rate):\n",
    "        self.layers = layers\n",
    "        self.loss = loss\n",
    "        self.learning_rate = learning_rate\n",
    "        \n",
    "        # initialize weight matrices and biases to zeros\n",
    "        self.weights = []\n",
    "        self.biases = []\n",
    "        for i in range(1, len(self.layers)):\n",
    "            self.weights.append(\n",
    "                np.zeros((self.layers[i - 1].num_nodes, self.layers[i].num_nodes))\n",
    "            )\n",
    "            self.biases.append(np.zeros(self.layers[i].num_nodes))\n",
    "        print(self.biases)\n",
    "\n",
    "    def feedforward(self, inputs):\n",
    "        \"\"\"Predicts the output(s) for a given set of input(s).\n",
    "        \n",
    "        Args:\n",
    "          inputs (np.ndarray, float): A (batch size) x self.layers[0].num_nodes array\n",
    "          \n",
    "        Returns: (np.ndarray, float) \n",
    "          An array of the predicted output labels, length is the batch size\n",
    "        \"\"\"\n",
    "        self.storedValues = []\n",
    "        h = inputs\n",
    "        ## Iterate layers\n",
    "        for i, layer in enumerate(self.layers):\n",
    "            ## g(hw + b),  h = previous layer values\n",
    "            if i != len(self.layers) - 1:\n",
    "                h = layer.get_layer_values(np.matrix(np.add(h * self.weights[i], np.matrix(self.biases[i]))))\n",
    "        return h     \n",
    "        \n",
    "    def backprop(self, predicted, actual):\n",
    "        \"\"\"Updates self.weights and self.biases based on predicted and actual values.\n",
    "        \n",
    "        This will require using the values at each layer that were stored at the\n",
    "        feedforward step.\n",
    "        \n",
    "        Args:\n",
    "          predicted (np.ndarray, float): An array of the predicted output labels\n",
    "          actual (np.ndarray, float): An array of the actual output labels\n",
    "        \"\"\"\n",
    "        # TODO: Implement backpropagation.\n",
    "        raise NotImplementedError\n",
    "        \n",
    "    def train(self, inputs, labels):\n",
    "        \"\"\"Trains neural network based on a batch of training data.\n",
    "        \n",
    "        Args:\n",
    "          inputs (np.ndarray): A (batch size) x self.layers[0].num_nodes array\n",
    "          labels (np.ndarray): An array of ground-truth output labels, \n",
    "            length is the batch size.\n",
    "        \"\"\"\n",
    "        predicted = self.feedforward(inputs)\n",
    "        self.backprop(predicted, labels)"
   ]
  },
  {
   "cell_type": "code",
   "execution_count": 200,
   "metadata": {},
   "outputs": [
    {
     "data": {
      "text/plain": [
       "array([ 1,  2,  3, -4])"
      ]
     },
     "execution_count": 200,
     "metadata": {},
     "output_type": "execute_result"
    }
   ],
   "source": [
    "x = Layer(2)\n",
    "x.get_layer_values(np.array([1,2,3,-4]))"
   ]
  },
  {
   "cell_type": "code",
   "execution_count": 201,
   "metadata": {},
   "outputs": [
    {
     "name": "stdout",
     "output_type": "stream",
     "text": [
      "[array([ 0.,  0.]), array([ 0.])]\n"
     ]
    }
   ],
   "source": [
    "network = FullyConnectedNeuralNetwork(\n",
    "    layers=[Layer(2), Layer(2, ReLU()), Layer(1)],\n",
    "    loss = SquaredErrorLoss,\n",
    "    learning_rate=0.25\n",
    ")"
   ]
  },
  {
   "cell_type": "code",
   "execution_count": 203,
   "metadata": {},
   "outputs": [
    {
     "name": "stdout",
     "output_type": "stream",
     "text": [
      "[[ 0.  0.]\n",
      " [ 0.  0.]]\n",
      "[[ 0.]\n",
      " [ 0.]]\n"
     ]
    },
    {
     "data": {
      "text/plain": [
       "array([[ 0.],\n",
       "       [ 0.]])"
      ]
     },
     "execution_count": 203,
     "metadata": {},
     "output_type": "execute_result"
    }
   ],
   "source": [
    "network.feedforward(np.matrix([[-1, 1],[-2,4]]))"
   ]
  },
  {
   "cell_type": "code",
   "execution_count": 173,
   "metadata": {},
   "outputs": [
    {
     "data": {
      "text/plain": [
       "matrix([[ 4,  8],\n",
       "        [13, 21]])"
      ]
     },
     "execution_count": 173,
     "metadata": {},
     "output_type": "execute_result"
    }
   ],
   "source": [
    "np.add(np.matrix([[1,2], [10,15]]), np.matrix([3,6]))"
   ]
  },
  {
   "cell_type": "markdown",
   "metadata": {},
   "source": [
    "## Part D: Testing It Out\n",
    "\n",
    "Try testing out your neural network implmentation on the simple neural network you considered in Question 1. The following code initializes a neural network with the structure of the network from Question 1. Note that all weights are initialized to zero."
   ]
  },
  {
   "cell_type": "code",
   "execution_count": null,
   "metadata": {},
   "outputs": [],
   "source": [
    "network = FullyConnectedNeuralNetwork(\n",
    "    layers=[Layer(2), Layer(2, ReLU()), Layer(1)],\n",
    "    learning_rate=0.25\n",
    ")\n",
    "\n",
    "network.train(np.array([[-1, 1]]), 1)"
   ]
  }
 ],
 "metadata": {
  "kernelspec": {
   "display_name": "Python 3",
   "language": "python",
   "name": "python3"
  },
  "language_info": {
   "codemirror_mode": {
    "name": "ipython",
    "version": 3
   },
   "file_extension": ".py",
   "mimetype": "text/x-python",
   "name": "python",
   "nbconvert_exporter": "python",
   "pygments_lexer": "ipython3",
   "version": "3.6.5"
  }
 },
 "nbformat": 4,
 "nbformat_minor": 2
}
